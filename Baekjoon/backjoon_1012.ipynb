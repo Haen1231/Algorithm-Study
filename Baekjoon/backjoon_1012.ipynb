{
 "cells": [
  {
   "cell_type": "markdown",
   "metadata": {},
   "source": [
    "백준 - 유기농 배추/ 문제번호 : 1012 / 실버 2 / 문제 분류 : 정렬\n",
    "    \n",
    "[1012번: 유기농 배추](https://www.acmicpc.net/problem/1012)"
   ]
  },
  {
   "cell_type": "code",
   "execution_count": 3,
   "metadata": {},
   "outputs": [
    {
     "name": "stdout",
     "output_type": "stream",
     "text": [
      "2\n"
     ]
    }
   ],
   "source": [
    "from  collections import deque\n",
    "t = int(input())\n",
    "for _ in range(t):\n",
    "    m, n, k = map(int, input().split())\n",
    "    farm = [[0]*m for _ in range(n)]\n",
    "    visited = [[False]*m for _ in range(n)]\n",
    "    data = [[]*2 for _ in range(k)]\n",
    "    for i in range(k):\n",
    "        idx1, idx2 = map(int, input().split())\n",
    "        farm[idx2][idx1] = 1\n",
    "        data[i].append(idx2)\n",
    "        data[i].append(idx1)\n",
    "         # 계속 틀린이유 : input의 인덱스 확인 !! -> 여기서는 x y가 반대 \n",
    "        \n",
    "    dx = [0,0,-1,1]\n",
    "    dy = [1,-1,0,0]\n",
    "    \n",
    "    def bfs(x,y):\n",
    "        cnt = 0\n",
    "        queue = deque()\n",
    "        queue.append((x,y))\n",
    "        if not visited[x][y] :  # 한번도 방문을 안한 노드 -> cnt +=1\n",
    "            visited[x][y] == True\n",
    "            cnt = 1\n",
    "        while queue:\n",
    "            x, y = queue.popleft()\n",
    "            for i in range(4):\n",
    "                nx = x + dx[i]\n",
    "                ny = y + dy[i]\n",
    "                if nx < 0 or ny < 0 or nx >= n or ny >= m : # 범위초과 \n",
    "                    continue\n",
    "                if farm[nx][ny] == 0: # 0 인경우\n",
    "                    continue\n",
    "                if farm[nx][ny] == 1 and visited[nx][ny] == False: #bfs방문 X이면 visited=True 해준 후 큐에 추가\n",
    "                    visited[nx][ny] = True\n",
    "                    queue.append((nx,ny))\n",
    "        return cnt        \n",
    "            \n",
    "    count = 0\n",
    "    for i in range(k): #data에만 배추가 있으므로 data만 배추를 검색\n",
    "        count += bfs(data[i][0],data[i][1])\n",
    "            \n",
    "    print(count)"
   ]
  },
  {
   "cell_type": "code",
   "execution_count": 4,
   "metadata": {},
   "outputs": [
    {
     "name": "stdout",
     "output_type": "stream",
     "text": [
      "2\n"
     ]
    }
   ],
   "source": [
    "#간단한 버전 - 시간은 더 오래걸림\n",
    "from  collections import deque\n",
    "t = int(input())\n",
    "for _ in range(t):\n",
    "    m, n, k = map(int, input().split())\n",
    "    visited = [[False]*m for _ in range(n)]\n",
    "    data = [[]*2 for _ in range(k)]\n",
    "    for i in range(k):\n",
    "        idx1, idx2 = map(int, input().split())\n",
    "        data[i].append(idx2)\n",
    "        data[i].append(idx1)\n",
    "    \n",
    "        \n",
    "    dx = [0,0,-1,1]\n",
    "    dy = [1,-1,0,0]\n",
    "\n",
    "    \n",
    "    def bfs(x,y):\n",
    "        cnt = 0\n",
    "        queue = deque()\n",
    "        queue.append((x,y))\n",
    "        if not visited[x][y] :\n",
    "            visited[x][y] == True\n",
    "            cnt = 1\n",
    "        while queue:\n",
    "            x, y = queue.popleft()\n",
    "            for i in range(4):\n",
    "                nx = x + dx[i]\n",
    "                ny = y + dy[i]\n",
    "                if nx < 0 or ny < 0 or nx >= n or ny >= m :\n",
    "                    continue\n",
    "                if [nx,ny] in data and visited[nx][ny] == False:\n",
    "                    visited[nx][ny] = True\n",
    "                    queue.append((nx,ny))\n",
    "        return cnt        \n",
    "            \n",
    "    count = 0\n",
    "    for i in range(k):\n",
    "        count += bfs(data[i][0],data[i][1])\n",
    "            \n",
    "    print(count)\n",
    "        "
   ]
  }
 ],
 "metadata": {
  "kernelspec": {
   "display_name": "Python 3.8.9 64-bit",
   "language": "python",
   "name": "python3"
  },
  "language_info": {
   "codemirror_mode": {
    "name": "ipython",
    "version": 3
   },
   "file_extension": ".py",
   "mimetype": "text/x-python",
   "name": "python",
   "nbconvert_exporter": "python",
   "pygments_lexer": "ipython3",
   "version": "3.8.9"
  },
  "orig_nbformat": 4,
  "vscode": {
   "interpreter": {
    "hash": "31f2aee4e71d21fbe5cf8b01ff0e069b9275f58929596ceb00d14d90e3e16cd6"
   }
  }
 },
 "nbformat": 4,
 "nbformat_minor": 2
}
