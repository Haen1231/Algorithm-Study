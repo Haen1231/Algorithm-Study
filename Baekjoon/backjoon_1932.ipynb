{
 "cells": [
  {
   "cell_type": "code",
   "execution_count": null,
   "metadata": {},
   "outputs": [],
   "source": [
    "백준 - 정수 삼각형 / 문제번호 : 1932 / 알고리즘 : DP/ 실버 2\n",
    "    \n",
    "    [1932번: 정수 삼각형](https://www.acmicpc.net/problem/1932)"
   ]
  },
  {
   "cell_type": "code",
   "execution_count": 6,
   "metadata": {},
   "outputs": [
    {
     "name": "stdout",
     "output_type": "stream",
     "text": [
      "30\n"
     ]
    }
   ],
   "source": [
    "n = int(input())\n",
    "triangle = []\n",
    "for _ in range(n):\n",
    "    triangle.append(list(map(int, input().split())))\n",
    "\n",
    "dp = [[0]*n for _ in range(n)]\n",
    "dp[0][0] = triangle[0][0]\n",
    " \n",
    "for i in range(1,n):\n",
    "    for j in range(len(triangle[i])):\n",
    "        if j == 0:\n",
    "            dp[i][j] = dp[i-1][j] + triangle[i][j]\n",
    "        elif j == len(triangle[i]):\n",
    "            dp[i][j] = dp[i-1][j-1] + triangle[i][j]\n",
    "        else :\n",
    "            dp[i][j] = max(dp[i-1][j-1],dp[i-1][j])+triangle[i][j]\n",
    "\n",
    "print(max(dp[n-1]))\n",
    "        "
   ]
  }
 ],
 "metadata": {
  "kernelspec": {
   "display_name": "Python 3.8.9 64-bit",
   "language": "python",
   "name": "python3"
  },
  "language_info": {
   "codemirror_mode": {
    "name": "ipython",
    "version": 3
   },
   "file_extension": ".py",
   "mimetype": "text/x-python",
   "name": "python",
   "nbconvert_exporter": "python",
   "pygments_lexer": "ipython3",
   "version": "3.8.9"
  },
  "orig_nbformat": 4,
  "vscode": {
   "interpreter": {
    "hash": "31f2aee4e71d21fbe5cf8b01ff0e069b9275f58929596ceb00d14d90e3e16cd6"
   }
  }
 },
 "nbformat": 4,
 "nbformat_minor": 2
}
