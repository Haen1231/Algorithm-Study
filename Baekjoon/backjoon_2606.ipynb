{
 "cells": [
  {
   "cell_type": "code",
   "execution_count": 7,
   "metadata": {},
   "outputs": [
    {
     "ename": "ValueError",
     "evalue": "not enough values to unpack (expected 2, got 0)",
     "output_type": "error",
     "traceback": [
      "\u001b[0;31m---------------------------------------------------------------------------\u001b[0m",
      "\u001b[0;31mValueError\u001b[0m                                Traceback (most recent call last)",
      "\u001b[1;32m/Users/ihaein/Algorithm-Study/Baekjoon/backjoon_2606.ipynb 셀 1\u001b[0m in \u001b[0;36m<cell line: 3>\u001b[0;34m()\u001b[0m\n\u001b[1;32m      <a href='vscode-notebook-cell:/Users/ihaein/Algorithm-Study/Baekjoon/backjoon_2606.ipynb#W0sZmlsZQ%3D%3D?line=0'>1</a>\u001b[0m \u001b[39mimport\u001b[39;00m \u001b[39msys\u001b[39;00m\n\u001b[1;32m      <a href='vscode-notebook-cell:/Users/ihaein/Algorithm-Study/Baekjoon/backjoon_2606.ipynb#W0sZmlsZQ%3D%3D?line=1'>2</a>\u001b[0m \u001b[39minput\u001b[39m \u001b[39m=\u001b[39m sys\u001b[39m.\u001b[39mstdin\u001b[39m.\u001b[39mreadline\n\u001b[0;32m----> <a href='vscode-notebook-cell:/Users/ihaein/Algorithm-Study/Baekjoon/backjoon_2606.ipynb#W0sZmlsZQ%3D%3D?line=2'>3</a>\u001b[0m n, m \u001b[39m=\u001b[39m  \u001b[39minput\u001b[39m()\u001b[39m.\u001b[39msplit()\n\u001b[1;32m      <a href='vscode-notebook-cell:/Users/ihaein/Algorithm-Study/Baekjoon/backjoon_2606.ipynb#W0sZmlsZQ%3D%3D?line=3'>4</a>\u001b[0m \u001b[39mprint\u001b[39m(n, m)\n\u001b[1;32m      <a href='vscode-notebook-cell:/Users/ihaein/Algorithm-Study/Baekjoon/backjoon_2606.ipynb#W0sZmlsZQ%3D%3D?line=4'>5</a>\u001b[0m graph \u001b[39m=\u001b[39m [\u001b[39m0\u001b[39m \u001b[39mfor\u001b[39;00m _ \u001b[39min\u001b[39;00m \u001b[39mrange\u001b[39m(m)]\n",
      "\u001b[0;31mValueError\u001b[0m: not enough values to unpack (expected 2, got 0)"
     ]
    }
   ],
   "source": [
    "import sys\n",
    "input = sys.stdin.readline\n",
    "n, m =  input().split()\n",
    "print(n, m)\n",
    "graph = [0 for _ in range(m)]\n",
    "\n",
    "for i in range(m):\n",
    "    graph[i] = list(map(int, input().split()))\n",
    "\n",
    "print(graph)\n"
   ]
  }
 ],
 "metadata": {
  "kernelspec": {
   "display_name": "Python 3.8.9 64-bit",
   "language": "python",
   "name": "python3"
  },
  "language_info": {
   "codemirror_mode": {
    "name": "ipython",
    "version": 3
   },
   "file_extension": ".py",
   "mimetype": "text/x-python",
   "name": "python",
   "nbconvert_exporter": "python",
   "pygments_lexer": "ipython3",
   "version": "3.8.9"
  },
  "orig_nbformat": 4,
  "vscode": {
   "interpreter": {
    "hash": "31f2aee4e71d21fbe5cf8b01ff0e069b9275f58929596ceb00d14d90e3e16cd6"
   }
  }
 },
 "nbformat": 4,
 "nbformat_minor": 2
}
