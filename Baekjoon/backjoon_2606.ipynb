{
 "cells": [
  {
   "cell_type": "markdown",
   "metadata": {},
   "source": [
    "백준 - 바이러스 / 문제번호 :  2606 / 실버 3 / 문제 분류 : BFS\n",
    "    \n",
    "[2606번: 바이러스](https://www.acmicpc.net/problem/2606)\n"
   ]
  },
  {
   "cell_type": "code",
   "execution_count": 40,
   "metadata": {},
   "outputs": [
    {
     "name": "stdout",
     "output_type": "stream",
     "text": [
      "4\n"
     ]
    }
   ],
   "source": [
    "from collections import deque\n",
    "n = int(input())\n",
    "m = int(input())\n",
    "graph = [[]for _ in range(n+1)] # n+1개의 행을 가지고 있는 2차원 배열 생성\n",
    "visited = [False]*(n+1)\n",
    "\n",
    "for i in range(m):\n",
    "    # data 를 받으면서 관계 그래프 생성!\n",
    "    num1, num2 = map(int, input().split())\n",
    "    graph[num1].append(num2)\n",
    "    graph[num2].append(num1)\n",
    "    # 처음 틀린이유 : data를 양쪽으로 넣어주지 않음 -> 1,2 이면 gragh[1] 에도 2추가, gragh[2]에도 1 추가\n",
    "\n",
    "#관계 그래프 생성 후 bfs 실행\n",
    "def bfs(graph, start, visited):\n",
    "    cnt = 0\n",
    "    queue = deque([start])\n",
    "    visited[start] = True\n",
    "    while queue:\n",
    "        v = queue.popleft()\n",
    "        for i in graph[v]:\n",
    "            if not visited[i]:\n",
    "                queue.append(i)\n",
    "                visited[i] = True\n",
    "                cnt += 1 #queue에 추가 : 연결되어 있는 컴퓨터 -> cnt ++\n",
    "    return cnt\n",
    "\n",
    "answer = bfs(graph,1,visited)\n",
    "print(answer)\n"
   ]
  }
 ],
 "metadata": {
  "kernelspec": {
   "display_name": "Python 3.8.9 64-bit",
   "language": "python",
   "name": "python3"
  },
  "language_info": {
   "codemirror_mode": {
    "name": "ipython",
    "version": 3
   },
   "file_extension": ".py",
   "mimetype": "text/x-python",
   "name": "python",
   "nbconvert_exporter": "python",
   "pygments_lexer": "ipython3",
   "version": "3.8.9"
  },
  "orig_nbformat": 4,
  "vscode": {
   "interpreter": {
    "hash": "31f2aee4e71d21fbe5cf8b01ff0e069b9275f58929596ceb00d14d90e3e16cd6"
   }
  }
 },
 "nbformat": 4,
 "nbformat_minor": 2
}
