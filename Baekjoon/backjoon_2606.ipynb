{
 "cells": [
  {
   "cell_type": "markdown",
   "metadata": {},
   "source": [
    "백준 - 바이러스 / 문제번호 :  2606 / 실버 3 / 문제 분류 : BFS\n",
    "    \n",
    "[2606번: 바이러스](https://www.acmicpc.net/problem/2606)\n"
   ]
  },
  {
   "cell_type": "code",
   "execution_count": 40,
   "metadata": {},
   "outputs": [
    {
     "name": "stdout",
     "output_type": "stream",
     "text": [
      "4\n"
     ]
    }
   ],
   "source": [
    "from collections import deque\n",
    "n = int(input())\n",
    "m = int(input())\n",
    "graph = [[]for _ in range(n+1)]\n",
    "visited = [False]*(n+1)\n",
    "\n",
    "for i in range(m):\n",
    "    num1, num2 = map(int, input().split())\n",
    "    graph[num1].append(num2)\n",
    "    graph[num2].append(num1)\n",
    "\n",
    "def bfs(graph, start, visited):\n",
    "    cnt = 0\n",
    "    queue = deque([start])\n",
    "    visited[start] = True\n",
    "    while queue:\n",
    "        v = queue.popleft()\n",
    "        for i in graph[v]:\n",
    "            if not visited[i]:\n",
    "                queue.append(i)\n",
    "                visited[i] = True\n",
    "                cnt += 1\n",
    "    return cnt\n",
    "\n",
    "answer = bfs(graph,1,visited)\n",
    "print(answer)\n"
   ]
  }
 ],
 "metadata": {
  "kernelspec": {
   "display_name": "Python 3.8.9 64-bit",
   "language": "python",
   "name": "python3"
  },
  "language_info": {
   "codemirror_mode": {
    "name": "ipython",
    "version": 3
   },
   "file_extension": ".py",
   "mimetype": "text/x-python",
   "name": "python",
   "nbconvert_exporter": "python",
   "pygments_lexer": "ipython3",
   "version": "3.8.9"
  },
  "orig_nbformat": 4,
  "vscode": {
   "interpreter": {
    "hash": "31f2aee4e71d21fbe5cf8b01ff0e069b9275f58929596ceb00d14d90e3e16cd6"
   }
  }
 },
 "nbformat": 4,
 "nbformat_minor": 2
}
