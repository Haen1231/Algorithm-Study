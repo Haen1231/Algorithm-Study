{
 "cells": [
  {
   "cell_type": "markdown",
   "metadata": {},
   "source": [
    "- 백준 - 설탕배달 / 문제번호 : 2839 / 문제분류 : DP/ 실버 4\n",
    "    \n",
    "    [2839번: 설탕 배달](https://www.acmicpc.net/problem/2839)"
   ]
  },
  {
   "cell_type": "code",
   "execution_count": 87,
   "metadata": {},
   "outputs": [
    {
     "name": "stdout",
     "output_type": "stream",
     "text": [
      "4\n"
     ]
    }
   ],
   "source": [
    "n = int(input())\n",
    "dp = [0]*(n+1)\n",
    "\n",
    "for i in range(1,n+1):\n",
    "    dp[i] = i\n",
    "    if i%3 == 0:\n",
    "        dp[i] = min(dp[i],dp[i-3]+1)\n",
    "    if i%5 == 0:\n",
    "        dp[i] = min(dp[i],dp[i-5]+1)\n",
    "    if i>=5 and not dp[i-5] == -1 : \n",
    "        dp[i] = min(dp[i],dp[i-5]+dp[5])\n",
    "    \n",
    "    if dp[i] == i:\n",
    "        dp[i] = -1\n",
    "\n",
    "print(dp[n])   \n"
   ]
  }
 ],
 "metadata": {
  "kernelspec": {
   "display_name": "Python 3.8.9 64-bit",
   "language": "python",
   "name": "python3"
  },
  "language_info": {
   "codemirror_mode": {
    "name": "ipython",
    "version": 3
   },
   "file_extension": ".py",
   "mimetype": "text/x-python",
   "name": "python",
   "nbconvert_exporter": "python",
   "pygments_lexer": "ipython3",
   "version": "3.8.9"
  },
  "orig_nbformat": 4,
  "vscode": {
   "interpreter": {
    "hash": "31f2aee4e71d21fbe5cf8b01ff0e069b9275f58929596ceb00d14d90e3e16cd6"
   }
  }
 },
 "nbformat": 4,
 "nbformat_minor": 2
}
