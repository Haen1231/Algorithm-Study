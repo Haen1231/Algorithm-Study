{
 "cells": [
  {
   "cell_type": "markdown",
   "metadata": {},
   "source": [
    "백준 - 1,2,3 더하기 / 문제번호 :  1920 / 문제분류 : 이진탐색 / 실버 3\n",
    "\n",
    "    [9095번: 1, 2, 3 더하기](https://www.acmicpc.net/problem/9095)\n",
    "\n"
   ]
  },
  {
   "cell_type": "code",
   "execution_count": 1,
   "metadata": {},
   "outputs": [
    {
     "name": "stdout",
     "output_type": "stream",
     "text": [
      "7\n",
      "44\n",
      "274\n"
     ]
    }
   ],
   "source": [
    "n = int(input())\n",
    "\n",
    "dp = [0]*11 #dp 미리 생성 \n",
    "dp[1] = 1\n",
    "dp[2] = 2\n",
    "dp[3] = 4\n",
    "for i in range(4,11):\n",
    "    dp[i] = dp[i-1] + dp [i-2] + dp[i-3] \n",
    "#경우의 수 : 마지막에 1을 더하는 경우, 2를 더하는 경우, 3을 더하는 경우\n",
    "# 숫자 i = dp[n-1] +1, dp[n-2]+2, dp[n-3]+3 으로 만들 수 있음\n",
    "# 즉, 경우의 수 는 dp[i-1] + dp [i-2] + dp[i-3] \n",
    "for _ in range(n):\n",
    "    a = int(input())\n",
    "    print(dp[a])\n"
   ]
  }
 ],
 "metadata": {
  "kernelspec": {
   "display_name": "Python 3.8.9 64-bit",
   "language": "python",
   "name": "python3"
  },
  "language_info": {
   "codemirror_mode": {
    "name": "ipython",
    "version": 3
   },
   "file_extension": ".py",
   "mimetype": "text/x-python",
   "name": "python",
   "nbconvert_exporter": "python",
   "pygments_lexer": "ipython3",
   "version": "3.8.9"
  },
  "orig_nbformat": 4,
  "vscode": {
   "interpreter": {
    "hash": "31f2aee4e71d21fbe5cf8b01ff0e069b9275f58929596ceb00d14d90e3e16cd6"
   }
  }
 },
 "nbformat": 4,
 "nbformat_minor": 2
}
