{
 "cells": [
  {
   "cell_type": "markdown",
   "metadata": {},
   "source": [
    "백준 - 계단 오르기 / 문제번호 :  2579 / 문제유형 : DP /실버 3 \n",
    "    \n",
    "    [2579번: 계단 오르기](https://www.acmicpc.net/problem/2579)"
   ]
  },
  {
   "cell_type": "code",
   "execution_count": 10,
   "metadata": {},
   "outputs": [
    {
     "name": "stdout",
     "output_type": "stream",
     "text": [
      "[0, 10, 30, 35, 55, 65, 75]\n",
      "75\n"
     ]
    }
   ],
   "source": [
    "n = int(input())\n",
    "score = [0]\n",
    "dp = [0]*(n+1)\n",
    "\n",
    "for _ in range(n):\n",
    "    score.append(int(input()))\n",
    "\n",
    "dp[1] = score[1]\n",
    "\n",
    "for i in range(2,n+1):\n",
    "    if i < 3:\n",
    "        dp[i] = score[i-1]+score[i] # dp[2] = score[1] +score[2]\n",
    "    else : \n",
    "        dp[i] = max(dp[i-2]+score[i], dp[i-3]+score[i-1]+score[i]) \n",
    "        # 같은 수가 3번 연속이면 안됨 -> 바로직전을 한칸뛰고 + 현재, 2번째칸을 뛰고 + 바로이전 + 현재 중 max를 저장\n",
    "\n",
    "print(dp[n])\n",
    "\n",
    "    "
   ]
  }
 ],
 "metadata": {
  "kernelspec": {
   "display_name": "Python 3.8.9 64-bit",
   "language": "python",
   "name": "python3"
  },
  "language_info": {
   "codemirror_mode": {
    "name": "ipython",
    "version": 3
   },
   "file_extension": ".py",
   "mimetype": "text/x-python",
   "name": "python",
   "nbconvert_exporter": "python",
   "pygments_lexer": "ipython3",
   "version": "3.8.9"
  },
  "orig_nbformat": 4,
  "vscode": {
   "interpreter": {
    "hash": "31f2aee4e71d21fbe5cf8b01ff0e069b9275f58929596ceb00d14d90e3e16cd6"
   }
  }
 },
 "nbformat": 4,
 "nbformat_minor": 2
}
