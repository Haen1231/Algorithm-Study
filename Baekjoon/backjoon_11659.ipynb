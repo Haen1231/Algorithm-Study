{
 "cells": [
  {
   "cell_type": "markdown",
   "metadata": {},
   "source": [
    "백준 - 구간합 구하기 / 문제 번호 : 11659 \n",
    "    - 난이도 : 실버 3\n",
    "    - 문제유형 : 그리디\n",
    "    \n",
    "[11659번: 구간 합 구하기 4](https://www.acmicpc.net/problem/11659)\n",
    "    "
   ]
  },
  {
   "cell_type": "code",
   "execution_count": 30,
   "metadata": {},
   "outputs": [
    {
     "name": "stdout",
     "output_type": "stream",
     "text": [
      "[0, 5, 9, 12, 14, 15]\n",
      "12\n",
      "9\n",
      "1\n"
     ]
    }
   ],
   "source": [
    "from itertools import accumulate\n",
    "import sys\n",
    "input = sys.stdin.readline\n",
    "\n",
    "n,m= map(int, input().split())\n",
    "n_list = list(map(int, input().split()))\n",
    "data = list(accumulate(n_list))\n",
    "data.insert(0,0)\n",
    "\n",
    "for _ in range(m):\n",
    "    i,j = map(int, input().split())\n",
    "    print(data[j]-data[i-1])"
   ]
  }
 ],
 "metadata": {
  "kernelspec": {
   "display_name": "Python 3.8.9 64-bit",
   "language": "python",
   "name": "python3"
  },
  "language_info": {
   "codemirror_mode": {
    "name": "ipython",
    "version": 3
   },
   "file_extension": ".py",
   "mimetype": "text/x-python",
   "name": "python",
   "nbconvert_exporter": "python",
   "pygments_lexer": "ipython3",
   "version": "3.8.9"
  },
  "orig_nbformat": 4,
  "vscode": {
   "interpreter": {
    "hash": "31f2aee4e71d21fbe5cf8b01ff0e069b9275f58929596ceb00d14d90e3e16cd6"
   }
  }
 },
 "nbformat": 4,
 "nbformat_minor": 2
}
