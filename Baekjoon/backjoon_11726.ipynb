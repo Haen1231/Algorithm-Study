{
 "cells": [
  {
   "cell_type": "markdown",
   "metadata": {},
   "source": [
    "백준 - 2xn 타일링 / 문제번호 : 11726 / 분류 : DP/ 실버 3\n",
    "    \n",
    "    [11726번: 2×n 타일링](https://www.acmicpc.net/problem/11726)\n",
    "    "
   ]
  },
  {
   "cell_type": "code",
   "execution_count": 1,
   "metadata": {},
   "outputs": [
    {
     "name": "stdout",
     "output_type": "stream",
     "text": [
      "55\n"
     ]
    }
   ],
   "source": [
    "#타일을 놓는 경우의 수\n",
    "# 맨 뒤에 세로타일 1개를 놓는 경우의 수 + 맨 뒤에 가로타일 2개를 놓는 경우의 수\n",
    "# -> dp[i-1]+dp[i-2]\n",
    "n = int(input())\n",
    "\n",
    "dp = [0 for _ in range(n+1)]\n",
    "\n",
    "if n <= 3 : print(n)\n",
    "else : \n",
    "\tdp[1] = 1\n",
    "\tdp[2] = 2\n",
    "\tfor i in range(3, n+1):\n",
    "\t\tdp[i] = dp[i-1] + dp[i-2]\n",
    "\n",
    "\tprint(dp[i]%10007)"
   ]
  }
 ],
 "metadata": {
  "kernelspec": {
   "display_name": "Python 3.8.9 64-bit",
   "language": "python",
   "name": "python3"
  },
  "language_info": {
   "codemirror_mode": {
    "name": "ipython",
    "version": 3
   },
   "file_extension": ".py",
   "mimetype": "text/x-python",
   "name": "python",
   "nbconvert_exporter": "python",
   "pygments_lexer": "ipython3",
   "version": "3.8.9"
  },
  "orig_nbformat": 4,
  "vscode": {
   "interpreter": {
    "hash": "31f2aee4e71d21fbe5cf8b01ff0e069b9275f58929596ceb00d14d90e3e16cd6"
   }
  }
 },
 "nbformat": 4,
 "nbformat_minor": 2
}
